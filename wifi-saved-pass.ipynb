{
 "cells": [
  {
   "cell_type": "code",
   "execution_count": null,
   "id": "938cd7ed-82e9-4b5c-a2a7-e446c924e028",
   "metadata": {},
   "outputs": [],
   "source": [
    "import subprocess\n",
    "\n",
    "def get_saved_wifi_networks():\n",
    "    # Get a list of saved Wi-Fi networks from macOS Keychain\n",
    "    result = subprocess.run([\"/usr/sbin/networksetup\", \"-listpreferredwirelessnetworks\", \"en0\"], capture_output=True, text=True)\n",
    "    networks = []\n",
    "\n",
    "    for line in result.stdout.splitlines()[1:]:\n",
    "        network_name = line.strip()\n",
    "        networks.append(network_name)\n",
    "    \n",
    "    return networks\n",
    "\n",
    "def get_wifi_password(network_name):\n",
    "    # Use the security command to find the Wi-Fi password from Keychain\n",
    "    result = subprocess.run([\"/usr/bin/security\", \"find-generic-password\", \"-D\", \"AirPort network password\", \"-a\", network_name, \"-w\"], capture_output=True, text=True)\n",
    "    \n",
    "    if result.returncode == 0:\n",
    "        return result.stdout.strip()\n",
    "    else:\n",
    "        return None\n",
    "\n",
    "def main():\n",
    "    networks = get_saved_wifi_networks()\n",
    "    if networks:\n",
    "        print(\"Saved Wi-Fi Networks and Passwords:\")\n",
    "        for network in networks:\n",
    "            password = get_wifi_password(network)\n",
    "            print(f\"Network: {network}\")\n",
    "            print(f\"Password: {password if password else 'No password found'}\")\n",
    "            print(\"-\" * 30)\n",
    "    else:\n",
    "        print(\"No saved Wi-Fi networks found.\")\n",
    "\n",
    "if __name__ == \"__main__\":\n",
    "    main()\n"
   ]
  }
 ],
 "metadata": {
  "kernelspec": {
   "display_name": "Python (myenv)",
   "language": "python",
   "name": "myenv"
  },
  "language_info": {
   "codemirror_mode": {
    "name": "ipython",
    "version": 3
   },
   "file_extension": ".py",
   "mimetype": "text/x-python",
   "name": "python",
   "nbconvert_exporter": "python",
   "pygments_lexer": "ipython3",
   "version": "3.13.1"
  }
 },
 "nbformat": 4,
 "nbformat_minor": 5
}
