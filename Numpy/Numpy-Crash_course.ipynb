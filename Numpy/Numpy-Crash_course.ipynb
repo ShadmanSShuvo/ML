{
 "cells": [
  {
   "cell_type": "code",
   "execution_count": 2,
   "id": "6caf1edb-db72-4c29-ae72-9ed964309f61",
   "metadata": {},
   "outputs": [
    {
     "name": "stdout",
     "output_type": "stream",
     "text": [
      "2.2.1\n"
     ]
    }
   ],
   "source": [
    "import numpy as np\n",
    "print(np.__version__)"
   ]
  },
  {
   "cell_type": "code",
   "execution_count": 11,
   "id": "0f1c5bab-338f-4eae-b23e-8fd51f63d768",
   "metadata": {},
   "outputs": [
    {
     "name": "stdout",
     "output_type": "stream",
     "text": [
      "[1 2 3 4]\n",
      "(4,)\n",
      "int64\n",
      "1\n",
      "4\n",
      "8\n",
      "1\n",
      "[10  2  3  4]\n",
      "[20  0  6 12]\n"
     ]
    }
   ],
   "source": [
    "a = np.array([1,2,3,4])\n",
    "print(a)\n",
    "print(a.shape)\n",
    "print(a.dtype)\n",
    "print(a.ndim)\n",
    "print(a.size)\n",
    "print(a.itemsize)\n",
    "print(a[0])\n",
    "a[0]=10\n",
    "print(a)\n",
    "\n",
    "b =a * np.array([2,0,2,3])\n",
    "print(b)"
   ]
  },
  {
   "cell_type": "code",
   "execution_count": 29,
   "id": "b7d481e5-aaa8-4d91-9f97-d7d8d32cf0e1",
   "metadata": {},
   "outputs": [
    {
     "name": "stdout",
     "output_type": "stream",
     "text": [
      "a = [1 2 3]\n",
      "l = [1, 2, 3]\n",
      "a = [5 6 7]\n",
      "l = [1, 2, 3, 4]\n",
      "a = [7 8 9]\n",
      "l = [1, 2, 3, 4, 1, 2, 3, 4]\n",
      "a = [14 16 18]\n",
      "l = [1, 2, 3, 4, 1, 2, 3, 4]\n",
      "sqrt of a = [3.74165739 4.         4.24264069]\n",
      "log of a = [1.31952866 1.38629436 1.44518588]\n"
     ]
    }
   ],
   "source": [
    "a = np.array([1,2,3])\n",
    "l = [1,2,3]\n",
    "\n",
    "#l.append(4)\n",
    "print(\"a =\", a)\n",
    "print(\"l =\", l)\n",
    "l = l + [4]\n",
    "a = a + np.array([4])\n",
    "#a = a + np.array([4,4,4]) \n",
    "#both are same\n",
    "print(\"a =\", a)\n",
    "print(\"l =\", l)\n",
    "\n",
    "l = l * 2\n",
    "a = a + 2\n",
    "print(\"a =\", a)\n",
    "print(\"l =\", l)\n",
    "a = a * 2\n",
    "print(\"a =\", a)\n",
    "print(\"l =\", l)\n",
    "\n",
    "a = np.sqrt(a)\n",
    "print(\"sqrt of a =\", a)\n",
    "\n",
    "a = np.log(a)\n",
    "print(\"log of a =\", a)"
   ]
  },
  {
   "cell_type": "code",
   "execution_count": 33,
   "id": "5e4a2408-1d9e-4b7a-b203-d12f319110be",
   "metadata": {},
   "outputs": [
    {
     "name": "stdout",
     "output_type": "stream",
     "text": [
      "32\n",
      "32\n",
      "32\n",
      "32\n",
      "32\n"
     ]
    }
   ],
   "source": [
    "# dot product\n",
    "l1 = [1,2,3]\n",
    "l2 = [4,5,6]\n",
    "a1 = np.array(l1)\n",
    "a2 = np.array(l2)\n",
    "\n",
    "dot = 0\n",
    "for i in range(len(l1)):\n",
    "    dot += l1[i] * l2[i]\n",
    "print(dot)\n",
    "\n",
    "dot = np.dot(a1,a2)\n",
    "print(dot)\n",
    "\n",
    "sum1 = a1 * a2\n",
    "dot = np.sum(sum1)\n",
    "print(dot)\n",
    "\n",
    "sum1 = a1 * a2\n",
    "dot = (a1*a2).sum()\n",
    "print(dot)\n",
    "\n",
    "dot = a1 @ a2\n",
    "print(dot)"
   ]
  },
  {
   "cell_type": "code",
   "execution_count": 38,
   "id": "c0ecd1d4-96cb-4bed-bbd5-be0186f74835",
   "metadata": {},
   "outputs": [
    {
     "name": "stdout",
     "output_type": "stream",
     "text": [
      "Time with lists: 0.13203958299709484\n",
      "Time with array: 0.0014182500017341226\n",
      "Ratio 93.10035807202355\n"
     ]
    }
   ],
   "source": [
    "from timeit import default_timer as timer\n",
    "\n",
    "a = np.random.randn(1000)\n",
    "b = np.random.randn(1000)\n",
    "\n",
    "A = list(a)\n",
    "B = list(b)\n",
    "\n",
    "T = 1000\n",
    "\n",
    "def dot1():\n",
    "    dot = 0\n",
    "    for i in range(len(A)):\n",
    "        dot += A[i]*B[i]\n",
    "    return dot\n",
    "    \n",
    "def dot2():\n",
    "    return np.dot(a,b)\n",
    "    \n",
    "start = timer()\n",
    "for t in range(T):\n",
    "    dot1()\n",
    "end = timer()\n",
    "t1 = end-start\n",
    "\n",
    "start = timer()\n",
    "for t in range(T):\n",
    "    dot2()\n",
    "end = timer()\n",
    "t2 = end-start\n",
    "\n",
    "print('Time with lists:', t1) # -> 0.19371\n",
    "print('Time with array:', t2) # -> 0.00112\n",
    "print('Ratio', t1/t2) # -> 172.332 times faster"
   ]
  },
  {
   "cell_type": "markdown",
   "id": "4f2728b0-610a-4247-a863-d07cc496b33a",
   "metadata": {},
   "source": [
    "# Multidimensional (nd) Array"
   ]
  },
  {
   "cell_type": "code",
   "execution_count": 42,
   "id": "f46aa691-467d-4e12-a0e8-6a0ec3f678d1",
   "metadata": {},
   "outputs": [
    {
     "name": "stdout",
     "output_type": "stream",
     "text": [
      "[[1 2]\n",
      " [3 4]]\n",
      "(2, 2)\n",
      "[1 2]\n",
      "1\n",
      "1\n",
      "[1 3]\n",
      "[1 2]\n",
      "[1 4]\n",
      "[[1 0]\n",
      " [0 4]]\n"
     ]
    }
   ],
   "source": [
    "# (matrix class exists but not recommended to use)\n",
    "a = np.array([[1,2], [3,4]])\n",
    "print(a)\n",
    "# [[1 2]\n",
    "# [3 4]]\n",
    "print(a.shape) # (2, 2)\n",
    "# Access elements\n",
    "# row first, then columns\n",
    "print(a[0]) # [1 2]\n",
    "print(a[0][0]) # 1\n",
    "# or\n",
    "print(a[0,0]) # 1\n",
    "# slicing\n",
    "print(a[:,0]) # all rows in col 0: [1 3]\n",
    "print(a[0,:]) # all columns in row 0: [1 2]\n",
    "# transpose\n",
    "a.T\n",
    "# matrix multiplication\n",
    "b = np.array([[3, 4], [5,6]])\n",
    "c = a.dot(b)\n",
    "d = a * b # elementwise multiplication\n",
    "# inner dimensions must match!\n",
    "b = np.array([[1,2,3], [4,5,6]])\n",
    "c = a.dot(b) # prev: b.T\n",
    "# determinant\n",
    "c = np.linalg.det(a)\n",
    "# inverse\n",
    "c = np.linalg.inv(a)\n",
    "# diag\n",
    "c = np.diag(a)\n",
    "print(c) # [1 4]\n",
    "# diag on a vector returns diagonal matrix (overloaded function)\n",
    "c = np.diag([1,4])\n",
    "print(c)\n",
    "# [[1 0]\n",
    "# [0 4]]"
   ]
  },
  {
   "cell_type": "code",
   "execution_count": 43,
   "id": "4b190965-6354-4acd-b3a4-3e3c490750ac",
   "metadata": {},
   "outputs": [
    {
     "name": "stdout",
     "output_type": "stream",
     "text": [
      "Collecting pandoc\n",
      "  Downloading pandoc-2.4.tar.gz (34 kB)\n",
      "  Installing build dependencies ... \u001b[?25ldone\n",
      "\u001b[?25h  Getting requirements to build wheel ... \u001b[?25ldone\n",
      "\u001b[?25h  Preparing metadata (pyproject.toml) ... \u001b[?25ldone\n",
      "\u001b[?25hCollecting plumbum (from pandoc)\n",
      "  Downloading plumbum-1.9.0-py3-none-any.whl.metadata (10 kB)\n",
      "Collecting ply (from pandoc)\n",
      "  Downloading ply-3.11-py2.py3-none-any.whl.metadata (844 bytes)\n",
      "Downloading plumbum-1.9.0-py3-none-any.whl (127 kB)\n",
      "Downloading ply-3.11-py2.py3-none-any.whl (49 kB)\n",
      "Building wheels for collected packages: pandoc\n",
      "  Building wheel for pandoc (pyproject.toml) ... \u001b[?25ldone\n",
      "\u001b[?25h  Created wheel for pandoc: filename=pandoc-2.4-py3-none-any.whl size=34843 sha256=24aa9b2fb37453fad9df3ef9225545662630d467a1aea12687a8abbafa0d7423\n",
      "  Stored in directory: /Users/shuvo/Library/Caches/pip/wheels/8d/12/e5/1f1048ae7f02f8daa062873211eb7f8c5fcf982d97d352b86d\n",
      "Successfully built pandoc\n",
      "Installing collected packages: ply, plumbum, pandoc\n",
      "Successfully installed pandoc-2.4 plumbum-1.9.0 ply-3.11\n",
      "Note: you may need to restart the kernel to use updated packages.\n"
     ]
    }
   ],
   "source": [
    "pip install pandoc"
   ]
  },
  {
   "cell_type": "code",
   "execution_count": null,
   "id": "a31e46e1-5ef5-4b11-b260-681bb35c9b6d",
   "metadata": {},
   "outputs": [],
   "source": []
  }
 ],
 "metadata": {
  "kernelspec": {
   "display_name": "Python (myenv)",
   "language": "python",
   "name": "myenv"
  },
  "language_info": {
   "codemirror_mode": {
    "name": "ipython",
    "version": 3
   },
   "file_extension": ".py",
   "mimetype": "text/x-python",
   "name": "python",
   "nbconvert_exporter": "python",
   "pygments_lexer": "ipython3",
   "version": "3.13.1"
  }
 },
 "nbformat": 4,
 "nbformat_minor": 5
}
