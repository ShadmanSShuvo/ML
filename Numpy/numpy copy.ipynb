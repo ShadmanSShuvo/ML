{
 "cells": [
  {
   "cell_type": "code",
   "execution_count": 2,
   "id": "d8555d44-254e-43c4-b090-648761672b05",
   "metadata": {},
   "outputs": [
    {
     "name": "stdout",
     "output_type": "stream",
     "text": [
      "[1 2 3 4 5]\n"
     ]
    }
   ],
   "source": [
    "import numpy as np\n",
    "arr = np.array([1, 2, 3, 4, 5])\n",
    "print(arr)  # Output: [1 2 3 4 5]"
   ]
  },
  {
   "cell_type": "code",
   "execution_count": 3,
   "id": "58157a15-04f7-43ff-8372-c96dc4df9fed",
   "metadata": {},
   "outputs": [
    {
     "name": "stdout",
     "output_type": "stream",
     "text": [
      "[[1 2 3]\n",
      " [4 5 6]]\n"
     ]
    }
   ],
   "source": [
    "matrix = np.array([[1, 2, 3], [4, 5, 6]])\n",
    "print(matrix)"
   ]
  },
  {
   "cell_type": "code",
   "execution_count": 4,
   "id": "17c70117-b60a-4c49-8d3d-d4dec20ca28a",
   "metadata": {},
   "outputs": [
    {
     "name": "stdout",
     "output_type": "stream",
     "text": [
      "[[0. 0. 0.]\n",
      " [0. 0. 0.]\n",
      " [0. 0. 0.]]\n",
      "[[1. 1. 1. 1.]\n",
      " [1. 1. 1. 1.]]\n",
      "[[0.05646014 0.52694234 0.35341276]\n",
      " [0.41032432 0.95194058 0.83237202]\n",
      " [0.39801309 0.86490895 0.84961376]]\n"
     ]
    }
   ],
   "source": [
    "# Array of zeros\n",
    "zeros = np.zeros((3, 3))\n",
    "print(zeros)\n",
    "\n",
    "# Array of ones\n",
    "ones = np.ones((2, 4))\n",
    "print(ones)\n",
    "\n",
    "# Random array\n",
    "random_array = np.random.rand(3, 3)\n",
    "print(random_array)"
   ]
  },
  {
   "cell_type": "code",
   "execution_count": 5,
   "id": "ab757f1e-75b1-4125-afb4-21b15b6bfb8a",
   "metadata": {},
   "outputs": [
    {
     "name": "stdout",
     "output_type": "stream",
     "text": [
      "[[1. 1. 1. 1. 1.]\n",
      " [1. 1. 1. 1. 1.]\n",
      " [1. 1. 1. 1. 1.]\n",
      " [1. 1. 1. 1. 1.]\n",
      " [1. 1. 1. 1. 1.]]\n",
      "[[0.61743628 0.91575354 0.91356983]\n",
      " [0.23133911 0.45038527 0.12935468]\n",
      " [0.99573666 0.61503518 0.537272  ]]\n"
     ]
    }
   ],
   "source": [
    "one_5by5 = np.ones((5,5))\n",
    "print(one_5by5)\n",
    "random_3by3 = np.random.rand(3,3)\n",
    "print(random_3by3)"
   ]
  },
  {
   "cell_type": "code",
   "execution_count": 8,
   "id": "c671cae7-4b53-406c-ae7e-3d15e72488f9",
   "metadata": {},
   "outputs": [
    {
     "name": "stdout",
     "output_type": "stream",
     "text": [
      "[11 12 13 14 15]\n",
      "[ 2  4  6  8 10]\n",
      "[ 1  4  9 16 25]\n",
      "[  1   8  27  64 125]\n"
     ]
    }
   ],
   "source": [
    "arr = np.array([1, 2, 3, 4, 5])\n",
    "\n",
    "# Add 10 to each element\n",
    "print(arr + 10)\n",
    "\n",
    "# Multiply each element by 2\n",
    "print(arr * 2)\n",
    "\n",
    "# Square each element\n",
    "print(arr ** 2)\n",
    "\n",
    "# Cube each element\n",
    "print(arr ** 3)"
   ]
  },
  {
   "cell_type": "code",
   "execution_count": 9,
   "id": "d8355c39-ecee-4bd0-9fe6-8d02faa9bc56",
   "metadata": {},
   "outputs": [
    {
     "name": "stdout",
     "output_type": "stream",
     "text": [
      "[[ 6  8]\n",
      " [10 12]]\n",
      "[[19 22]\n",
      " [43 50]]\n"
     ]
    }
   ],
   "source": [
    "A = np.array([[1, 2], [3, 4]])\n",
    "B = np.array([[5, 6], [7, 8]])\n",
    "\n",
    "# Matrix addition\n",
    "print(A + B)\n",
    "\n",
    "# Matrix multiplication\n",
    "print(np.dot(A, B))"
   ]
  },
  {
   "cell_type": "code",
   "execution_count": 12,
   "id": "6e05e190-8e77-4dda-9f1d-4a6058985b77",
   "metadata": {},
   "outputs": [
    {
     "name": "stdout",
     "output_type": "stream",
     "text": [
      "[[29 27 27 12]\n",
      " [23 15 42 28]\n",
      " [30 11 18 26]\n",
      " [26 40 16 37]]\n",
      "[[39 31 40 24]\n",
      " [43 45 19 18]\n",
      " [23 35 30 32]\n",
      " [32 17 14 19]]\n",
      "[[145 135 135  60]\n",
      " [115  75 210 140]\n",
      " [150  55  90 130]\n",
      " [130 200  80 185]]\n",
      "[[195 155 200 120]\n",
      " [215 225  95  90]\n",
      " [115 175 150 160]\n",
      " [160  85  70  95]]\n",
      "[[3297 3263 2651 2274]\n",
      " [3404 3334 2857 2698]\n",
      " [2889 2497 2313 1988]\n",
      " [4286 3795 2798 2559]]\n"
     ]
    }
   ],
   "source": [
    "#C = np.array([[1,2,5,6], [2,3,4,5], [5,6,9,8], [1,5,3,7]])\n",
    "#D = np.array([[1,2,5,6], [2,3,4,5], [5,6,9,8], [1,5,3,7]])\n",
    "C = np.random.randint(10, 50, size=(4,4))\n",
    "D = np.random.randint(10, 50, size=(4,4))\n",
    "print(C)\n",
    "print(D)\n",
    "print(5*C)\n",
    "print(5*D)\n",
    "print(np.dot(C,D))"
   ]
  },
  {
   "cell_type": "code",
   "execution_count": 13,
   "id": "63897d19-ee5a-40f2-91e6-33c204381770",
   "metadata": {},
   "outputs": [
    {
     "name": "stdout",
     "output_type": "stream",
     "text": [
      "[[1 2 3]\n",
      " [4 5 6]]\n"
     ]
    }
   ],
   "source": [
    "arr = np.array([1, 2, 3, 4, 5, 6])\n",
    "reshaped = arr.reshape(2, 3)\n",
    "print(reshaped)"
   ]
  },
  {
   "cell_type": "code",
   "execution_count": 14,
   "id": "f2e4646a-f98d-4ce5-b23e-5386ecbc0634",
   "metadata": {},
   "outputs": [
    {
     "name": "stdout",
     "output_type": "stream",
     "text": [
      "[1 2 3 4 5 6]\n"
     ]
    }
   ],
   "source": [
    "matrix = np.array([[1, 2, 3], [4, 5, 6]])\n",
    "flattened = matrix.flatten()\n",
    "print(flattened)"
   ]
  },
  {
   "cell_type": "code",
   "execution_count": 15,
   "id": "9664e78c-9ed4-4909-8865-29cad1b6bc66",
   "metadata": {},
   "outputs": [
    {
     "name": "stdout",
     "output_type": "stream",
     "text": [
      "[[1 4]\n",
      " [2 5]\n",
      " [3 6]]\n"
     ]
    }
   ],
   "source": [
    "matrix = np.array([[1, 2, 3], [4, 5, 6]])\n",
    "transposed = matrix.T\n",
    "print(transposed)"
   ]
  },
  {
   "cell_type": "code",
   "execution_count": 16,
   "id": "da2fcd0a-bd67-45dd-b9fe-8eee03f71ecb",
   "metadata": {},
   "outputs": [
    {
     "name": "stdout",
     "output_type": "stream",
     "text": [
      "[[ 1  2  3  4]\n",
      " [ 5  6  7  8]\n",
      " [ 9 10 11 12]]\n"
     ]
    }
   ],
   "source": [
    "A = np.array([1,2,3,4,5,6,7,8,9,10,11,12])\n",
    "B = A.reshape(3,4)\n",
    "print(B)"
   ]
  },
  {
   "cell_type": "code",
   "execution_count": 19,
   "id": "3b9d9937-1409-4bc2-8226-99424b4329a5",
   "metadata": {},
   "outputs": [
    {
     "name": "stdout",
     "output_type": "stream",
     "text": [
      "[[1 4 7]\n",
      " [2 5 8]\n",
      " [3 6 9]]\n"
     ]
    }
   ],
   "source": [
    "mat = np.array([[1,2,3],[4,5,6],[7,8,9]])\n",
    "matT = mat.T\n",
    "print(matT)\n",
    "#print(mat.T)"
   ]
  },
  {
   "cell_type": "code",
   "execution_count": 21,
   "id": "17ef8442-cd4e-40c1-b67a-7a73dde3bafb",
   "metadata": {},
   "outputs": [
    {
     "name": "stdout",
     "output_type": "stream",
     "text": [
      "15\n",
      "3.0\n",
      "1\n",
      "5\n",
      "1.4142135623730951\n",
      "2.0\n"
     ]
    }
   ],
   "source": [
    "arr = np.array([1, 2, 3, 4, 5])\n",
    "\n",
    "print(np.sum(arr))   # Output: 15\n",
    "print(np.mean(arr))  # Output: 3.0\n",
    "print(np.min(arr))   # Output: 1\n",
    "print(np.max(arr))   # Output: 5\n",
    "print(np.std(arr))   # Output: 1.414213562\n",
    "print(np.var(arr))   # Output: 2.0"
   ]
  },
  {
   "cell_type": "code",
   "execution_count": 23,
   "id": "916c930e-80bd-4061-bf5e-5270d0986a20",
   "metadata": {},
   "outputs": [
    {
     "name": "stdout",
     "output_type": "stream",
     "text": [
      "[[23 26 32 45]\n",
      " [26 33 20 35]\n",
      " [19 30 12 22]\n",
      " [35 33 31 39]]\n",
      "461\n",
      "28.8125\n",
      "12\n",
      "45\n",
      "8.087171554381667\n",
      "65.40234375\n"
     ]
    }
   ],
   "source": [
    "C = np.random.randint(10, 50, size=(4,4))\n",
    "print(C)\n",
    "print(np.sum(C))   \n",
    "print(np.mean(C))  \n",
    "print(np.min(C))   \n",
    "print(np.max(C))   \n",
    "print(np.std(C))   \n",
    "print(np.var(C)) "
   ]
  },
  {
   "cell_type": "code",
   "execution_count": 25,
   "id": "3d411c37-6b85-43bc-9cd0-ad25f519c1a3",
   "metadata": {},
   "outputs": [
    {
     "name": "stdout",
     "output_type": "stream",
     "text": [
      "10\n",
      "50\n",
      "[20 30 40]\n",
      "[10 20 30]\n"
     ]
    }
   ],
   "source": [
    "arr = np.array([10, 20, 30, 40, 50])\n",
    "\n",
    "print(arr[0])  # Output: 10\n",
    "print(arr[-1]) # Output: 50\n",
    "print(arr[1:4])  # Output: [20 30 40]\n",
    "print(arr[:3])   # Output: [10 20 30]"
   ]
  },
  {
   "cell_type": "code",
   "execution_count": 26,
   "id": "e692679d-809d-44a5-be67-ea5066a9133b",
   "metadata": {},
   "outputs": [
    {
     "name": "stdout",
     "output_type": "stream",
     "text": [
      "6\n",
      "[1 2 3]\n"
     ]
    }
   ],
   "source": [
    "matrix = np.array([[1, 2, 3], [4, 5, 6], [7, 8, 9]])\n",
    "\n",
    "# Access element at row 1, column 2\n",
    "print(matrix[1, 2])  # Output: 6\n",
    "\n",
    "# Access first row\n",
    "print(matrix[0])  # Output: [1 2 3]"
   ]
  },
  {
   "cell_type": "code",
   "execution_count": 30,
   "id": "db29aa16-e4bc-4761-ad2a-af067f181c80",
   "metadata": {},
   "outputs": [
    {
     "name": "stdout",
     "output_type": "stream",
     "text": [
      "[[7 5 6]\n",
      " [1 2 2]\n",
      " [7 1 2]]\n",
      "2\n"
     ]
    }
   ],
   "source": [
    "from numpy.random import default_rng\n",
    "\n",
    "#rng = default_rng()\n",
    "A = default_rng().integers(1, 9, size=(3, 3))\n",
    "print(A)\n",
    "print(A[1,2])"
   ]
  },
  {
   "cell_type": "code",
   "execution_count": 33,
   "id": "65482e8d-5625-40c4-a91b-789dd5dbe6a6",
   "metadata": {},
   "outputs": [
    {
     "name": "stdout",
     "output_type": "stream",
     "text": [
      "[[5 1 4 2 2]\n",
      " [3 8 5 1 1]\n",
      " [3 7 4 5 7]\n",
      " [2 6 8 8 7]\n",
      " [2 7 2 5 7]]\n",
      "[[5 1]\n",
      " [3 8]]\n"
     ]
    }
   ],
   "source": [
    "from numpy.random import default_rng\n",
    "\n",
    "#rng = default_rng()\n",
    "A = default_rng().integers(1, 9, size=(5, 5))\n",
    "print(A)\n",
    "print(A[0:2,0:2])"
   ]
  },
  {
   "cell_type": "code",
   "execution_count": 34,
   "id": "4f9eba9e-e152-48bd-988c-f62749b197ad",
   "metadata": {},
   "outputs": [
    {
     "name": "stdout",
     "output_type": "stream",
     "text": [
      "[30 40 50]\n"
     ]
    }
   ],
   "source": [
    "arr = np.array([10, 20, 30, 40, 50])\n",
    "\n",
    "# Find elements greater than 20\n",
    "print(arr[arr > 20])  # Output: [30 40 50]"
   ]
  },
  {
   "cell_type": "code",
   "execution_count": 35,
   "id": "fd80f365-1df5-4b4a-a80b-4924b2db248f",
   "metadata": {},
   "outputs": [
    {
     "name": "stdout",
     "output_type": "stream",
     "text": [
      "[[ 1  2  3  4  5]\n",
      " [ 6  7  8  9 10]\n",
      " [11 12 13 14 15]\n",
      " [16 17 18 19 20]]\n"
     ]
    }
   ],
   "source": [
    "#1. Create an array of numbers from 1 to 20 and reshape it into a 4x5 matrix.\n",
    "\n",
    "import numpy as np\n",
    "\n",
    "arr = np.arange(1, 21).reshape(4, 5)\n",
    "print(arr)"
   ]
  },
  {
   "cell_type": "code",
   "execution_count": 36,
   "id": "80d2727e-d6ca-4c70-a1f1-5cf42debbdcb",
   "metadata": {},
   "outputs": [
    {
     "name": "stdout",
     "output_type": "stream",
     "text": [
      "[[45 48 65 68 68]\n",
      " [10 84 22 37 88]\n",
      " [71 89 89 13 59]\n",
      " [66 40 88 47 89]\n",
      " [82 38 26 78 73]]\n",
      "Row sums: [294 241 321 330 297]\n"
     ]
    }
   ],
   "source": [
    "#2. Generate a 5x5 random matrix and find the sum of all elements in each row.\n",
    "\n",
    "np.random.seed(0)  # For reproducibility\n",
    "matrix = np.random.randint(1, 100, (5, 5))\n",
    "row_sums = np.sum(matrix, axis=1)\n",
    "print(matrix)\n",
    "print(\"Row sums:\", row_sums)"
   ]
  },
  {
   "cell_type": "code",
   "execution_count": 38,
   "id": "0587d909-33cc-4505-80e4-e64a282cf6c4",
   "metadata": {},
   "outputs": [
    {
     "name": "stdout",
     "output_type": "stream",
     "text": [
      "[39 32  1  9 32 31 10 23 35 11 50 28 34  0  0]\n",
      "[-1 -1  1  9 -1 -1 10 23 -1 11 -1 -1 -1  0  0]\n"
     ]
    }
   ],
   "source": [
    "#3. Create a 1D array of 15 random numbers between 0 and 50 and replace all values greater than 25 with -1.\n",
    "\n",
    "arr = np.random.randint(0, 51, 15)\n",
    "print(arr)\n",
    "arr[arr > 25] = -1\n",
    "print(arr)"
   ]
  },
  {
   "cell_type": "code",
   "execution_count": 41,
   "id": "acd4e46c-15e2-4c94-84ac-adb8bc634724",
   "metadata": {},
   "outputs": [
    {
     "name": "stdout",
     "output_type": "stream",
     "text": [
      "[[1. 0. 0.]\n",
      " [0. 1. 0.]\n",
      " [0. 0. 1.]]\n"
     ]
    }
   ],
   "source": [
    "#4. Create a 3x3 identity matrix.\n",
    "\n",
    "identity_matrix = np.eye(3)\n",
    "print(identity_matrix)"
   ]
  },
  {
   "cell_type": "code",
   "execution_count": 42,
   "id": "e4c877b2-e9a9-4cb0-9804-4ac8ea2882a8",
   "metadata": {},
   "outputs": [
    {
     "name": "stdout",
     "output_type": "stream",
     "text": [
      "Mean: 30.0\n",
      "Variance: 200.0\n",
      "Standard Deviation: 14.142135623730951\n"
     ]
    }
   ],
   "source": [
    "# 5. Find the mean, variance, and standard deviation of the following array.\n",
    "arr = np.array([10, 20, 30, 40, 50])\n",
    "\n",
    "mean = np.mean(arr)\n",
    "variance = np.var(arr)\n",
    "std_dev = np.std(arr)\n",
    "\n",
    "print(\"Mean:\", mean)\n",
    "print(\"Variance:\", variance)\n",
    "print(\"Standard Deviation:\", std_dev)\n"
   ]
  },
  {
   "cell_type": "code",
   "execution_count": 45,
   "id": "c4e42835-f523-4ec6-a45a-b0ddabbf7bb3",
   "metadata": {},
   "outputs": [
    {
     "name": "stdout",
     "output_type": "stream",
     "text": [
      "[[70 95  1 51 37]\n",
      " [35 49 94  4 99]\n",
      " [43 78 22 74  1]\n",
      " [11 44 59 24 60]\n",
      " [ 3 99 63 36 95]]\n",
      "After replacing even\n",
      "[[ 0 95  1 51 37]\n",
      " [35 49  0  0 99]\n",
      " [43  0  0  0  1]\n",
      " [11  0 59  0  0]\n",
      " [ 3 99 63  0 95]]\n",
      "After replacing odd\n",
      "[[0 1 1 1 1]\n",
      " [1 1 0 0 1]\n",
      " [1 0 0 0 1]\n",
      " [1 0 1 0 0]\n",
      " [1 1 1 0 1]]\n"
     ]
    }
   ],
   "source": [
    "#6. Create a 5x5 matrix of random integers between 1 and 100. Replace all even numbers with 0.\n",
    "\n",
    "matrix = np.random.randint(1, 101, (5, 5))\n",
    "print(matrix)\n",
    "matrix[matrix % 2 == 0] = 0\n",
    "print(\"After replacing even\")\n",
    "print(matrix)\n",
    "matrix[matrix % 2 == 1] = 1\n",
    "print(\"After replacing odd\")\n",
    "print(matrix)"
   ]
  },
  {
   "cell_type": "code",
   "execution_count": 53,
   "id": "c89481b4-afb9-4fe8-a33c-40b7d9d0f588",
   "metadata": {},
   "outputs": [
    {
     "name": "stdout",
     "output_type": "stream",
     "text": [
      "Matrix:\n",
      " [[3 3 9 2]\n",
      " [6 9 5 1]\n",
      " [3 6 6 1]\n",
      " [9 2 2 1]]\n",
      "Transpose:\n",
      " [[3 6 3 9]\n",
      " [3 9 6 2]\n",
      " [9 5 6 2]\n",
      " [2 1 1 1]]\n",
      "Determinant: -83.9999999999999\n"
     ]
    }
   ],
   "source": [
    "#7. Create a 4x4 matrix of random numbers. Find its transpose and determinant.\n",
    "\n",
    "from numpy.linalg import det\n",
    "\n",
    "#matrix = np.random.rand(4, 4)\n",
    "matrix = np.random.randint(1, 10, size=(4,4))\n",
    "transpose = matrix.T\n",
    "determinant = det(matrix)\n",
    "\n",
    "print(\"Matrix:\\n\", matrix)\n",
    "print(\"Transpose:\\n\", transpose)\n",
    "print(\"Determinant:\", determinant)"
   ]
  },
  {
   "cell_type": "code",
   "execution_count": 56,
   "id": "ae936943-5faf-4484-ae2f-1bbe6818ac4d",
   "metadata": {},
   "outputs": [
    {
     "name": "stdout",
     "output_type": "stream",
     "text": [
      "Horizontal Stack:\n",
      " [[1 2 5 6]\n",
      " [3 4 7 8]]\n",
      "Vertical Stack:\n",
      " [[1 2]\n",
      " [3 4]\n",
      " [5 6]\n",
      " [7 8]]\n"
     ]
    }
   ],
   "source": [
    "#8. Stack two arrays horizontally and vertically.\n",
    "\n",
    "\n",
    "arr1 = np.array([[1, 2], [3, 4]])\n",
    "arr2 = np.array([[5, 6], [7, 8]])\n",
    "\n",
    "# Horizontal stack\n",
    "h_stack = np.hstack((arr1, arr2))\n",
    "\n",
    "# Vertical stack\n",
    "v_stack = np.vstack((arr1, arr2))\n",
    "\n",
    "print(\"Horizontal Stack:\\n\", h_stack)\n",
    "print(\"Vertical Stack:\\n\", v_stack)"
   ]
  },
  {
   "cell_type": "code",
   "execution_count": 60,
   "id": "2cd51139-11df-40ee-9e9f-b76b728d5668",
   "metadata": {},
   "outputs": [
    {
     "name": "stdout",
     "output_type": "stream",
     "text": [
      "[[1. 1. 1. 1. 1. 1.]\n",
      " [1. 0. 0. 0. 0. 1.]\n",
      " [1. 0. 0. 0. 0. 1.]\n",
      " [1. 0. 0. 0. 0. 1.]\n",
      " [1. 0. 0. 0. 0. 1.]\n",
      " [1. 1. 1. 1. 1. 1.]]\n"
     ]
    }
   ],
   "source": [
    "#9. Create a 6x6 matrix with a border of 1s and all inside values as 0.\n",
    "\n",
    "matrix = np.ones((6, 6))\n",
    "matrix[1:-1, 1:-1] = 0\n",
    "# or\n",
    "# matrix[1:5, 1:5] = 0\n",
    "print(matrix)"
   ]
  },
  {
   "cell_type": "code",
   "execution_count": 64,
   "id": "c357656c-e3f1-4bf3-8e24-e2e9e37f97e8",
   "metadata": {},
   "outputs": [
    {
     "name": "stdout",
     "output_type": "stream",
     "text": [
      "Array:\n",
      " [94 88 33 20 73 72 88 14 59 82 56 65 76 93 37 26 33 43 15 87]\n",
      "Means of each part:\n",
      " [np.float64(61.6), np.float64(63.0), np.float64(65.4), np.float64(40.8)]\n"
     ]
    }
   ],
   "source": [
    "# 10. Generate a random 1D array of 20 numbers. Split it into 4 equal parts and find the mean of each part.\n",
    "\n",
    "arr = np.random.randint(1, 101, 20)\n",
    "split_arr = np.split(arr, 4)\n",
    "#print(split_arr)\n",
    "means = [np.mean(part) for part in split_arr]\n",
    "\n",
    "print(\"Array:\\n\", arr)\n",
    "print(\"Means of each part:\\n\", means)\n"
   ]
  },
  {
   "cell_type": "code",
   "execution_count": 67,
   "id": "529e21c6-7d5e-4ae2-a805-591eef736d52",
   "metadata": {},
   "outputs": [
    {
     "name": "stdout",
     "output_type": "stream",
     "text": [
      "Matrix:\n",
      " [[92 31 74 84  8 22 93  9 44 47]\n",
      " [ 1 52 39 90 75 99 88 97 84 27]\n",
      " [79 33 71 98 45 60 58 51 46  5]\n",
      " [58 94 92 18 36 67 21 46 58 80]\n",
      " [37 63  5 78 31 88 99 36 74 91]\n",
      " [56 27 23 77 80 99 91 52 47 81]\n",
      " [62 61 48  1 11 76 14 72 95  7]\n",
      " [46 31 16 42 39 54 44 83  8 93]\n",
      " [66 42 67 93 79 92 32 94 51 47]\n",
      " [94 34 13 97 81 67 73 11 91 28]]\n",
      "Max value position: (np.int64(1), np.int64(5))\n",
      "Min value position: (np.int64(1), np.int64(0))\n"
     ]
    }
   ],
   "source": [
    "#11. Create a random 10x10 matrix and find the position of the maximum and minimum values.\n",
    "\n",
    "#matrix = np.random.rand(10, 10)\n",
    "#matrix = np.random.randint(0, 51, 10)\n",
    "matrix = np.random.randint(1, 100, (10, 10))\n",
    "\n",
    "max_pos = np.unravel_index(np.argmax(matrix), matrix.shape)\n",
    "min_pos = np.unravel_index(np.argmin(matrix), matrix.shape)\n",
    "\n",
    "print(\"Matrix:\\n\", matrix)\n",
    "print(\"Max value position:\", max_pos)\n",
    "print(\"Min value position:\", min_pos)"
   ]
  },
  {
   "cell_type": "code",
   "execution_count": 69,
   "id": "e74ff715-5f15-43bd-b83c-5c92f041c97d",
   "metadata": {},
   "outputs": [
    {
     "name": "stdout",
     "output_type": "stream",
     "text": [
      "Original Array: [44 84 89 71 21]\n",
      "Normalized Array: [0.33823529 0.92647059 1.         0.73529412 0.        ]\n"
     ]
    }
   ],
   "source": [
    "#12. Normalize an array so that its values lie between 0 and 1.\n",
    "\n",
    "arr = np.random.randint(1, 101, 5)\n",
    "\n",
    "normalized_arr = (arr - np.min(arr)) / (np.max(arr) - np.min(arr))\n",
    "print(\"Original Array:\", arr)\n",
    "print(\"Normalized Array:\", normalized_arr)"
   ]
  },
  {
   "cell_type": "code",
   "execution_count": 75,
   "id": "feef6ac5-e26d-449d-aa5f-4f424356300a",
   "metadata": {},
   "outputs": [
    {
     "name": "stdout",
     "output_type": "stream",
     "text": [
      "[[7 4 3 3 3]\n",
      " [7 5 7 1 5]\n",
      " [3 2 7 2 8]\n",
      " [6 7 2 7 7]\n",
      " [7 7 3 6 3]]\n",
      "[[3 4 3 4 9]\n",
      " [6 5 6 2 6]\n",
      " [9 3 6 7 5]\n",
      " [1 9 6 6 6]\n",
      " [2 1 1 1 1]]\n",
      "[[ 81  87  84  78 123]\n",
      " [125  88 104  98 139]\n",
      " [102  69  83  85  94]\n",
      " [ 99 135 121 101 155]\n",
      " [102 129 120 102 159]]\n"
     ]
    }
   ],
   "source": [
    "#13. Implement a matrix multiplication function without using NumPy’s built-in dot() method.\n",
    "\n",
    "def matrix_multiplication(A, B):\n",
    "    result = [[sum(a * b for a, b in zip(A_row, B_col)) for B_col in zip(*B)] for A_row in A]\n",
    "    return np.array(result)\n",
    "\n",
    "#A = [[1, 2], [3, 4]]\n",
    "#B = [[5, 6], [7, 8]]\n",
    "#arr = np.random.randint(0, 51, 15)\n",
    "A = np.random.randint(1, 10, (5, 5))\n",
    "B = np.random.randint(1, 10, (5, 5))\n",
    "print(A)\n",
    "print(B)\n",
    "print(matrix_multiplication(A, B))"
   ]
  },
  {
   "cell_type": "code",
   "execution_count": 76,
   "id": "f1c1fe7e-d633-4478-85c4-96f3d8c41dfd",
   "metadata": {},
   "outputs": [
    {
     "name": "stdout",
     "output_type": "stream",
     "text": [
      "Intersection: [4 5]\n",
      "Difference: [1 2 3]\n"
     ]
    }
   ],
   "source": [
    "#14. Create a function that takes two arrays and returns their intersection and difference.\n",
    "\n",
    "def array_operations(arr1, arr2):\n",
    "    intersection = np.intersect1d(arr1, arr2)\n",
    "    difference = np.setdiff1d(arr1, arr2)\n",
    "    return intersection, difference\n",
    "\n",
    "arr1 = np.array([1, 2, 3, 4, 5])\n",
    "arr2 = np.array([4, 5, 6, 7, 8])\n",
    "\n",
    "inter, diff = array_operations(arr1, arr2)\n",
    "\n",
    "print(\"Intersection:\", inter)\n",
    "print(\"Difference:\", diff)"
   ]
  },
  {
   "cell_type": "code",
   "execution_count": 77,
   "id": "4f93ddd7-7dec-4523-9019-5eafd73ea987",
   "metadata": {},
   "outputs": [
    {
     "name": "stdout",
     "output_type": "stream",
     "text": [
      "Dice Roll Counts: [172 165 155 173 158 177]\n"
     ]
    }
   ],
   "source": [
    "#15. Simulate a dice roll using a NumPy function and count how many times each number appears in 1000 rolls.\n",
    "\n",
    "rolls = np.random.randint(1, 7, 1000)\n",
    "counts = np.bincount(rolls)[1:]\n",
    "\n",
    "print(\"Dice Roll Counts:\", counts)\n"
   ]
  },
  {
   "cell_type": "markdown",
   "id": "463c0502-7277-4a38-bf10-6a98438d29f8",
   "metadata": {},
   "source": [
    "📊 Project 1: Data Analysis on Titanic Dataset\n",
    "Objective:\n",
    "Use NumPy to perform basic analysis on the Titanic dataset.\n",
    "\n",
    "Steps:\n",
    "Load the Titanic dataset from a CSV file.\n",
    "Calculate the average age of passengers.\n",
    "Find the survival rate by gender.\n",
    "Calculate the percentage of passengers in each class.\n",
    "Solution:\n",
    "\n",
    "import numpy as np\n",
    "\n",
    "# Load Titanic dataset (replace 'titanic.csv' with your file path)\n",
    "data = np.genfromtxt('titanic.csv', delimiter=',', skip_header=1)\n",
    "\n",
    "# Average age of passengers\n",
    "ages = data[:, 5]\n",
    "average_age = np.mean(ages[~np.isnan(ages)])\n",
    "print(\"Average Age:\", average_age)\n",
    "\n",
    "# Survival rate by gender\n",
    "genders = data[:, 4]\n",
    "survived = data[:, 1]\n",
    "\n",
    "male_survival_rate = np.mean(survived[genders == 1])\n",
    "female_survival_rate = np.mean(survived[genders == 0])\n",
    "print(\"Male Survival Rate:\", male_survival_rate)\n",
    "print(\"Female Survival Rate:\", female_survival_rate)\n",
    "\n",
    "# Percentage of passengers in each class\n",
    "classes = data[:, 2]\n",
    "for pclass in np.unique(classes):\n",
    "    percentage = np.mean(classes == pclass) * 100\n",
    "    print(f\"Class {int(pclass)}: {percentage:.2f}%\")\n",
    "🎲 Project 2: Random Walk Simulation\n",
    "Objective:\n",
    "Simulate a random walk in one dimension and calculate the distance from the starting point after 1000 steps.\n",
    "\n",
    "Solution:\n",
    "python\n",
    "Copy code\n",
    "import numpy as np\n",
    "import matplotlib.pyplot as plt\n",
    "\n",
    "# Random Walk Simulation\n",
    "steps = np.random.choice([-1, 1], size=1000)\n",
    "position = np.cumsum(steps)\n",
    "\n",
    "# Plot the random walk\n",
    "plt.plot(position)\n",
    "plt.title(\"Random Walk Simulation\")\n",
    "plt.xlabel(\"Steps\")\n",
    "plt.ylabel(\"Position\")\n",
    "plt.show()\n",
    "\n",
    "# Distance from the starting point\n",
    "final_distance = np.abs(position[-1])\n",
    "print(\"Final Distance from Start:\", final_distance)\n",
    "📐 Project 3: Image Manipulation\n",
    "Objective:\n",
    "Manipulate an image using NumPy arrays. Convert the image to grayscale and apply an invert filter.\n",
    "\n",
    "Solution:\n",
    "python\n",
    "Copy code\n",
    "from PIL import Image\n",
    "import numpy as np\n",
    "\n",
    "# Load image\n",
    "image = Image.open('example.jpg')\n",
    "image_array = np.array(image)\n",
    "\n",
    "# Convert to grayscale\n",
    "grayscale = np.mean(image_array, axis=2).astype(np.uint8)\n",
    "\n",
    "# Invert colors\n",
    "inverted = 255 - grayscale\n",
    "\n",
    "# Display the grayscale and inverted images\n",
    "Image.fromarray(grayscale).show()\n",
    "Image.fromarray(inverted).show()\n",
    "📈 Project 4: Stock Price Analysis\n",
    "Objective:\n",
    "Analyze historical stock prices using NumPy to calculate returns and plot the moving average.\n",
    "\n",
    "Solution:\n",
    "python\n",
    "Copy code\n",
    "import numpy as np\n",
    "import matplotlib.pyplot as plt\n",
    "\n",
    "# Load stock data\n",
    "stock_prices = np.genfromtxt('stock_prices.csv', delimiter=',', skip_header=1)[:, 1]\n",
    "\n",
    "# Daily returns\n",
    "returns = np.diff(stock_prices) / stock_prices[:-1]\n",
    "\n",
    "# Moving average\n",
    "moving_avg = np.convolve(stock_prices, np.ones(20)/20, mode='valid')\n",
    "\n",
    "# Plot stock prices and moving average\n",
    "plt.plot(stock_prices, label='Stock Prices')\n",
    "plt.plot(moving_avg, label='20-Day Moving Average')\n",
    "plt.legend()\n",
    "plt.show()\n",
    "\n",
    "# Average and standard deviation of returns\n",
    "print(\"Average Return:\", np.mean(returns))\n",
    "print(\"Standard Deviation of Returns:\", np.std(returns))\n",
    "⚙️ Project 5: Sudoku Solver\n",
    "Objective:\n",
    "Create a Sudoku solver using backtracking and NumPy.\n",
    "\n",
    "Solution:\n",
    "python\n",
    "Copy code\n",
    "import numpy as np\n",
    "\n",
    "# Sudoku puzzle (0 represents empty cells)\n",
    "sudoku = np.array([\n",
    "    [5, 3, 0, 0, 7, 0, 0, 0, 0],\n",
    "    [6, 0, 0, 1, 9, 5, 0, 0, 0],\n",
    "    [0, 9, 8, 0, 0, 0, 0, 6, 0],\n",
    "    [8, 0, 0, 0, 6, 0, 0, 0, 3],\n",
    "    [4, 0, 0, 8, 0, 3, 0, 0, 1],\n",
    "    [7, 0, 0, 0, 2, 0, 0, 0, 6],\n",
    "    [0, 6, 0, 0, 0, 0, 2, 8, 0],\n",
    "    [0, 0, 0, 4, 1, 9, 0, 0, 5],\n",
    "    [0, 0, 0, 0, 8, 0, 0, 7, 9]\n",
    "])\n",
    "\n",
    "# Check if number can be placed\n",
    "def is_valid(sudoku, row, col, num):\n",
    "    if num in sudoku[row] or num in sudoku[:, col]:\n",
    "        return False\n",
    "    start_row, start_col = 3 * (row // 3), 3 * (col // 3)\n",
    "    if num in sudoku[start_row:start_row+3, start_col:start_col+3]:\n",
    "        return False\n",
    "    return True\n",
    "\n",
    "# Solve Sudoku using backtracking\n",
    "def solve_sudoku(sudoku):\n",
    "    for row in range(9):\n",
    "        for col in range(9):\n",
    "            if sudoku[row, col] == 0:\n",
    "                for num in range(1, 10):\n",
    "                    if is_valid(sudoku, row, col, num):\n",
    "                        sudoku[row, col] = num\n",
    "                        if solve_sudoku(sudoku):\n",
    "                            return True\n",
    "                        sudoku[row, col] = 0\n",
    "                return False\n",
    "    return True\n",
    "\n",
    "# Solve and print solution\n",
    "if solve_sudoku(sudoku):\n",
    "    print(\"Sudoku Solved:\\n\", sudoku)\n",
    "else:\n",
    "    print(\"No solution exists.\")"
   ]
  },
  {
   "cell_type": "code",
   "execution_count": null,
   "id": "27f5e97f-5f30-463b-809d-f222adec6f1a",
   "metadata": {},
   "outputs": [],
   "source": [
    "import numpy as np\n",
    "\n",
    "# Load Titanic dataset (replace 'titanic.csv' with your file path)\n",
    "data = np.genfromtxt('titanic.csv', delimiter=',', skip_header=1)\n",
    "\n",
    "# Average age of passengers\n",
    "ages = data[:, 5]\n",
    "average_age = np.mean(ages[~np.isnan(ages)])\n",
    "print(\"Average Age:\", average_age)\n",
    "\n",
    "# Survival rate by gender\n",
    "genders = data[:, 4]\n",
    "survived = data[:, 1]\n",
    "\n",
    "male_survival_rate = np.mean(survived[genders == 1])\n",
    "female_survival_rate = np.mean(survived[genders == 0])\n",
    "print(\"Male Survival Rate:\", male_survival_rate)\n",
    "print(\"Female Survival Rate:\", female_survival_rate)\n",
    "\n",
    "# Percentage of passengers in each class\n",
    "classes = data[:, 2]\n",
    "for pclass in np.unique(classes):\n",
    "    percentage = np.mean(classes == pclass) * 100\n",
    "    print(f\"Class {int(pclass)}: {percentage:.2f}%\")"
   ]
  },
  {
   "cell_type": "code",
   "execution_count": 90,
   "id": "bbc4b684-1b27-4bb4-9754-ee6dd3086eba",
   "metadata": {},
   "outputs": [
    {
     "data": {
      "image/png": "[encoded data removed]",
      "text/plain": [
       "<Figure size 640x480 with 1 Axes>"
      ]
     },
     "metadata": {},
     "output_type": "display_data"
    },
    {
     "name": "stdout",
     "output_type": "stream",
     "text": [
      "Final Distance from Start: 36\n"
     ]
    }
   ],
   "source": [
    "import numpy as np\n",
    "import matplotlib.pyplot as plt\n",
    "\n",
    "# Random Walk Simulation\n",
    "steps = np.random.choice([-1, 1], size=1000)\n",
    "position = np.cumsum(steps)\n",
    "\n",
    "# Plot the random walk\n",
    "plt.plot(position)\n",
    "plt.title(\"Random Walk Simulation\")\n",
    "plt.xlabel(\"Steps\")\n",
    "plt.ylabel(\"Position\")\n",
    "plt.show()\n",
    "\n",
    "# Distance from the starting point\n",
    "final_distance = np.abs(position[-1])\n",
    "print(\"Final Distance from Start:\", final_distance)\n"
   ]
  },
  {
   "cell_type": "code",
   "execution_count": 91,
   "id": "6679fea0-ef71-4178-9bcd-791c019b52d6",
   "metadata": {},
   "outputs": [
    {
     "ename": "AttributeError",
     "evalue": "module 'matplotlib.pyplot' has no attribute '__version__'",
     "output_type": "error",
     "traceback": [
      "\u001b[0;31m---------------------------------------------------------------------------\u001b[0m",
      "\u001b[0;31mAttributeError\u001b[0m                            Traceback (most recent call last)",
      "Cell \u001b[0;32mIn[91], line 5\u001b[0m\n\u001b[1;32m      2\u001b[0m \u001b[38;5;28;01mimport\u001b[39;00m\u001b[38;5;250m \u001b[39m\u001b[38;5;21;01mmatplotlib\u001b[39;00m\u001b[38;5;21;01m.\u001b[39;00m\u001b[38;5;21;01mpyplot\u001b[39;00m\u001b[38;5;250m \u001b[39m\u001b[38;5;28;01mas\u001b[39;00m\u001b[38;5;250m \u001b[39m\u001b[38;5;21;01mplt\u001b[39;00m\n\u001b[1;32m      4\u001b[0m \u001b[38;5;66;03m# Check the version\u001b[39;00m\n\u001b[0;32m----> 5\u001b[0m \u001b[38;5;28mprint\u001b[39m(\u001b[38;5;124m\"\u001b[39m\u001b[38;5;124mMatplotlib version:\u001b[39m\u001b[38;5;124m\"\u001b[39m, \u001b[43mplt\u001b[49m\u001b[38;5;241;43m.\u001b[39;49m\u001b[43m__version__\u001b[49m)\n",
      "\u001b[0;31mAttributeError\u001b[0m: module 'matplotlib.pyplot' has no attribute '__version__'"
     ]
    }
   ],
   "source": [
    "#import matplotlib\n",
    "import matplotlib.pyplot as plt\n",
    "\n",
    "# Check the version\n",
    "print(\"Matplotlib version:\", plt.__version__)\n"
   ]
  },
  {
   "cell_type": "code",
   "execution_count": 87,
   "id": "16b4ee48-641a-428a-897b-65d17e447eb2",
   "metadata": {},
   "outputs": [
    {
     "name": "stdout",
     "output_type": "stream",
     "text": [
      "Collecting matplotlib\n",
      "  Downloading matplotlib-3.10.0-cp313-cp313-macosx_11_0_arm64.whl.metadata (11 kB)\n",
      "Collecting contourpy>=1.0.1 (from matplotlib)\n",
      "  Downloading contourpy-1.3.1-cp313-cp313-macosx_11_0_arm64.whl.metadata (5.4 kB)\n",
      "Collecting cycler>=0.10 (from matplotlib)\n",
      "  Downloading cycler-0.12.1-py3-none-any.whl.metadata (3.8 kB)\n",
      "Collecting fonttools>=4.22.0 (from matplotlib)\n",
      "  Downloading fonttools-4.55.3-cp313-cp313-macosx_10_13_universal2.whl.metadata (165 kB)\n",
      "Collecting kiwisolver>=1.3.1 (from matplotlib)\n",
      "  Downloading kiwisolver-1.4.8-cp313-cp313-macosx_11_0_arm64.whl.metadata (6.2 kB)\n",
      "Requirement already satisfied: numpy>=1.23 in /Users/shuvo/myenv/lib/python3.13/site-packages (from matplotlib) (2.2.1)\n",
      "Requirement already satisfied: packaging>=20.0 in /Users/shuvo/myenv/lib/python3.13/site-packages (from matplotlib) (24.2)\n",
      "Collecting pillow>=8 (from matplotlib)\n",
      "  Downloading pillow-11.1.0-cp313-cp313-macosx_11_0_arm64.whl.metadata (9.1 kB)\n",
      "Collecting pyparsing>=2.3.1 (from matplotlib)\n",
      "  Downloading pyparsing-3.2.1-py3-none-any.whl.metadata (5.0 kB)\n",
      "Requirement already satisfied: python-dateutil>=2.7 in /Users/shuvo/myenv/lib/python3.13/site-packages (from matplotlib) (2.9.0.post0)\n",
      "Requirement already satisfied: six>=1.5 in /Users/shuvo/myenv/lib/python3.13/site-packages (from python-dateutil>=2.7->matplotlib) (1.17.0)\n",
      "Downloading matplotlib-3.10.0-cp313-cp313-macosx_11_0_arm64.whl (8.0 MB)\n",
      "\u001b[2K   \u001b[90m━━━━━━━━━━━━━━━━━━━━━━━━━━━━━━━━━━━━━━━━\u001b[0m \u001b[32m8.0/8.0 MB\u001b[0m \u001b[31m848.6 kB/s\u001b[0m eta \u001b[36m0:00:00\u001b[0m00:01\u001b[0m00:01\u001b[0m\n",
      "\u001b[?25hDownloading contourpy-1.3.1-cp313-cp313-macosx_11_0_arm64.whl (255 kB)\n",
      "Downloading cycler-0.12.1-py3-none-any.whl (8.3 kB)\n",
      "Downloading fonttools-4.55.3-cp313-cp313-macosx_10_13_universal2.whl (2.8 MB)\n",
      "\u001b[2K   \u001b[90m━━━━━━━━━━━━━━━━━━━━━━━━━━━━━━━━━━━━━━━━\u001b[0m \u001b[32m2.8/2.8 MB\u001b[0m \u001b[31m873.4 kB/s\u001b[0m eta \u001b[36m0:00:00\u001b[0ma \u001b[36m0:00:01\u001b[0m\n",
      "\u001b[?25hDownloading kiwisolver-1.4.8-cp313-cp313-macosx_11_0_arm64.whl (65 kB)\n",
      "Downloading pillow-11.1.0-cp313-cp313-macosx_11_0_arm64.whl (3.1 MB)\n",
      "\u001b[2K   \u001b[90m━━━━━━━━━━━━━━━━━━━━━━━━━━━━━━━━━━━━━━━━\u001b[0m \u001b[32m3.1/3.1 MB\u001b[0m \u001b[31m856.0 kB/s\u001b[0m eta \u001b[36m0:00:00\u001b[0ma \u001b[36m0:00:01\u001b[0m\n",
      "\u001b[?25hDownloading pyparsing-3.2.1-py3-none-any.whl (107 kB)\n",
      "Installing collected packages: pyparsing, pillow, kiwisolver, fonttools, cycler, contourpy, matplotlib\n",
      "Successfully installed contourpy-1.3.1 cycler-0.12.1 fonttools-4.55.3 kiwisolver-1.4.8 matplotlib-3.10.0 pillow-11.1.0 pyparsing-3.2.1\n",
      "Note: you may need to restart the kernel to use updated packages.\n"
     ]
    }
   ],
   "source": [
    "%pip install matplotlib"
   ]
  },
  {
   "cell_type": "code",
   "execution_count": 93,
   "id": "f2bd0839-e82e-46f8-ac72-65733feecb5a",
   "metadata": {},
   "outputs": [
    {
     "name": "stdout",
     "output_type": "stream",
     "text": [
      "Requirement already satisfied: pillow in /Users/shuvo/myenv/lib/python3.13/site-packages (11.1.0)\n",
      "Note: you may need to restart the kernel to use updated packages.\n"
     ]
    }
   ],
   "source": [
    "%pip install pillow"
   ]
  },
  {
   "cell_type": "code",
   "execution_count": null,
   "id": "0c3359ad-6321-4a8c-906d-e72be23849c4",
   "metadata": {},
   "outputs": [],
   "source": [
    "#IMAGE MANIPULATION\n",
    "from PIL import Image\n",
    "import numpy as np\n",
    "\n",
    "# Load image\n",
    "image = Image.open('example.jpg')\n",
    "image_array = np.array(image)\n",
    "\n",
    "# Convert to grayscale\n",
    "grayscale = np.mean(image_array, axis=2).astype(np.uint8)\n",
    "\n",
    "# Invert colors\n",
    "inverted = 255 - grayscale\n",
    "\n",
    "# Display the grayscale and inverted images\n",
    "Image.fromarray(grayscale).show()\n",
    "Image.fromarray(inverted).show()\n"
   ]
  },
  {
   "cell_type": "code",
   "execution_count": 95,
   "id": "70b2e5a5-0dd0-4aeb-ba4a-5a92f79620bf",
   "metadata": {},
   "outputs": [
    {
     "ename": "FileNotFoundError",
     "evalue": "stock_prices.csv not found.",
     "output_type": "error",
     "traceback": [
      "\u001b[0;31m---------------------------------------------------------------------------\u001b[0m",
      "\u001b[0;31mFileNotFoundError\u001b[0m                         Traceback (most recent call last)",
      "Cell \u001b[0;32mIn[95], line 6\u001b[0m\n\u001b[1;32m      3\u001b[0m \u001b[38;5;28;01mimport\u001b[39;00m\u001b[38;5;250m \u001b[39m\u001b[38;5;21;01mmatplotlib\u001b[39;00m\u001b[38;5;21;01m.\u001b[39;00m\u001b[38;5;21;01mpyplot\u001b[39;00m\u001b[38;5;250m \u001b[39m\u001b[38;5;28;01mas\u001b[39;00m\u001b[38;5;250m \u001b[39m\u001b[38;5;21;01mplt\u001b[39;00m\n\u001b[1;32m      5\u001b[0m \u001b[38;5;66;03m# Load stock data\u001b[39;00m\n\u001b[0;32m----> 6\u001b[0m stock_prices \u001b[38;5;241m=\u001b[39m \u001b[43mnp\u001b[49m\u001b[38;5;241;43m.\u001b[39;49m\u001b[43mgenfromtxt\u001b[49m\u001b[43m(\u001b[49m\u001b[38;5;124;43m'\u001b[39;49m\u001b[38;5;124;43mstock_prices.csv\u001b[39;49m\u001b[38;5;124;43m'\u001b[39;49m\u001b[43m,\u001b[49m\u001b[43m \u001b[49m\u001b[43mdelimiter\u001b[49m\u001b[38;5;241;43m=\u001b[39;49m\u001b[38;5;124;43m'\u001b[39;49m\u001b[38;5;124;43m,\u001b[39;49m\u001b[38;5;124;43m'\u001b[39;49m\u001b[43m,\u001b[49m\u001b[43m \u001b[49m\u001b[43mskip_header\u001b[49m\u001b[38;5;241;43m=\u001b[39;49m\u001b[38;5;241;43m1\u001b[39;49m\u001b[43m)\u001b[49m[:, \u001b[38;5;241m1\u001b[39m]\n\u001b[1;32m      8\u001b[0m \u001b[38;5;66;03m# Daily returns\u001b[39;00m\n\u001b[1;32m      9\u001b[0m returns \u001b[38;5;241m=\u001b[39m np\u001b[38;5;241m.\u001b[39mdiff(stock_prices) \u001b[38;5;241m/\u001b[39m stock_prices[:\u001b[38;5;241m-\u001b[39m\u001b[38;5;241m1\u001b[39m]\n",
      "File \u001b[0;32m~/myenv/lib/python3.13/site-packages/numpy/lib/_npyio_impl.py:1990\u001b[0m, in \u001b[0;36mgenfromtxt\u001b[0;34m(fname, dtype, comments, delimiter, skip_header, skip_footer, converters, missing_values, filling_values, usecols, names, excludelist, deletechars, replace_space, autostrip, case_sensitive, defaultfmt, unpack, usemask, loose, invalid_raise, max_rows, encoding, ndmin, like)\u001b[0m\n\u001b[1;32m   1988\u001b[0m     fname \u001b[38;5;241m=\u001b[39m os\u001b[38;5;241m.\u001b[39mfspath(fname)\n\u001b[1;32m   1989\u001b[0m \u001b[38;5;28;01mif\u001b[39;00m \u001b[38;5;28misinstance\u001b[39m(fname, \u001b[38;5;28mstr\u001b[39m):\n\u001b[0;32m-> 1990\u001b[0m     fid \u001b[38;5;241m=\u001b[39m \u001b[43mnp\u001b[49m\u001b[38;5;241;43m.\u001b[39;49m\u001b[43mlib\u001b[49m\u001b[38;5;241;43m.\u001b[39;49m\u001b[43m_datasource\u001b[49m\u001b[38;5;241;43m.\u001b[39;49m\u001b[43mopen\u001b[49m\u001b[43m(\u001b[49m\u001b[43mfname\u001b[49m\u001b[43m,\u001b[49m\u001b[43m \u001b[49m\u001b[38;5;124;43m'\u001b[39;49m\u001b[38;5;124;43mrt\u001b[39;49m\u001b[38;5;124;43m'\u001b[39;49m\u001b[43m,\u001b[49m\u001b[43m \u001b[49m\u001b[43mencoding\u001b[49m\u001b[38;5;241;43m=\u001b[39;49m\u001b[43mencoding\u001b[49m\u001b[43m)\u001b[49m\n\u001b[1;32m   1991\u001b[0m     fid_ctx \u001b[38;5;241m=\u001b[39m contextlib\u001b[38;5;241m.\u001b[39mclosing(fid)\n\u001b[1;32m   1992\u001b[0m \u001b[38;5;28;01melse\u001b[39;00m:\n",
      "File \u001b[0;32m~/myenv/lib/python3.13/site-packages/numpy/lib/_datasource.py:192\u001b[0m, in \u001b[0;36mopen\u001b[0;34m(path, mode, destpath, encoding, newline)\u001b[0m\n\u001b[1;32m    155\u001b[0m \u001b[38;5;250m\u001b[39m\u001b[38;5;124;03m\"\"\"\u001b[39;00m\n\u001b[1;32m    156\u001b[0m \u001b[38;5;124;03mOpen `path` with `mode` and return the file object.\u001b[39;00m\n\u001b[1;32m    157\u001b[0m \n\u001b[0;32m   (...)\u001b[0m\n\u001b[1;32m    188\u001b[0m \n\u001b[1;32m    189\u001b[0m \u001b[38;5;124;03m\"\"\"\u001b[39;00m\n\u001b[1;32m    191\u001b[0m ds \u001b[38;5;241m=\u001b[39m DataSource(destpath)\n\u001b[0;32m--> 192\u001b[0m \u001b[38;5;28;01mreturn\u001b[39;00m \u001b[43mds\u001b[49m\u001b[38;5;241;43m.\u001b[39;49m\u001b[43mopen\u001b[49m\u001b[43m(\u001b[49m\u001b[43mpath\u001b[49m\u001b[43m,\u001b[49m\u001b[43m \u001b[49m\u001b[43mmode\u001b[49m\u001b[43m,\u001b[49m\u001b[43m \u001b[49m\u001b[43mencoding\u001b[49m\u001b[38;5;241;43m=\u001b[39;49m\u001b[43mencoding\u001b[49m\u001b[43m,\u001b[49m\u001b[43m \u001b[49m\u001b[43mnewline\u001b[49m\u001b[38;5;241;43m=\u001b[39;49m\u001b[43mnewline\u001b[49m\u001b[43m)\u001b[49m\n",
      "File \u001b[0;32m~/myenv/lib/python3.13/site-packages/numpy/lib/_datasource.py:529\u001b[0m, in \u001b[0;36mDataSource.open\u001b[0;34m(self, path, mode, encoding, newline)\u001b[0m\n\u001b[1;32m    526\u001b[0m     \u001b[38;5;28;01mreturn\u001b[39;00m _file_openers[ext](found, mode\u001b[38;5;241m=\u001b[39mmode,\n\u001b[1;32m    527\u001b[0m                               encoding\u001b[38;5;241m=\u001b[39mencoding, newline\u001b[38;5;241m=\u001b[39mnewline)\n\u001b[1;32m    528\u001b[0m \u001b[38;5;28;01melse\u001b[39;00m:\n\u001b[0;32m--> 529\u001b[0m     \u001b[38;5;28;01mraise\u001b[39;00m \u001b[38;5;167;01mFileNotFoundError\u001b[39;00m(\u001b[38;5;124mf\u001b[39m\u001b[38;5;124m\"\u001b[39m\u001b[38;5;132;01m{\u001b[39;00mpath\u001b[38;5;132;01m}\u001b[39;00m\u001b[38;5;124m not found.\u001b[39m\u001b[38;5;124m\"\u001b[39m)\n",
      "\u001b[0;31mFileNotFoundError\u001b[0m: stock_prices.csv not found."
     ]
    }
   ],
   "source": [
    "#stock price analysis\n",
    "import numpy as np\n",
    "import matplotlib.pyplot as plt\n",
    "\n",
    "# Load stock data\n",
    "stock_prices = np.genfromtxt('stock_prices.csv', delimiter=',', skip_header=1)[:, 1]\n",
    "\n",
    "# Daily returns\n",
    "returns = np.diff(stock_prices) / stock_prices[:-1]\n",
    "\n",
    "# Moving average\n",
    "moving_avg = np.convolve(stock_prices, np.ones(20)/20, mode='valid')\n",
    "\n",
    "# Plot stock prices and moving average\n",
    "plt.plot(stock_prices, label='Stock Prices')\n",
    "plt.plot(moving_avg, label='20-Day Moving Average')\n",
    "plt.legend()\n",
    "plt.show()\n",
    "\n",
    "# Average and standard deviation of returns\n",
    "print(\"Average Return:\", np.mean(returns))\n",
    "print(\"Standard Deviation of Returns:\", np.std(returns))\n"
   ]
  },
  {
   "cell_type": "code",
   "execution_count": 97,
   "id": "f7314ff9-22b5-4b27-a0d2-764e44caaaa2",
   "metadata": {},
   "outputs": [
    {
     "name": "stdout",
     "output_type": "stream",
     "text": [
      "Requirement already satisfied: matplotlib in /Users/shuvo/myenv/lib/python3.13/site-packages (3.10.0)\n",
      "Requirement already satisfied: contourpy>=1.0.1 in /Users/shuvo/myenv/lib/python3.13/site-packages (from matplotlib) (1.3.1)\n",
      "Requirement already satisfied: cycler>=0.10 in /Users/shuvo/myenv/lib/python3.13/site-packages (from matplotlib) (0.12.1)\n",
      "Requirement already satisfied: fonttools>=4.22.0 in /Users/shuvo/myenv/lib/python3.13/site-packages (from matplotlib) (4.55.3)\n",
      "Requirement already satisfied: kiwisolver>=1.3.1 in /Users/shuvo/myenv/lib/python3.13/site-packages (from matplotlib) (1.4.8)\n",
      "Requirement already satisfied: numpy>=1.23 in /Users/shuvo/myenv/lib/python3.13/site-packages (from matplotlib) (2.2.1)\n",
      "Requirement already satisfied: packaging>=20.0 in /Users/shuvo/myenv/lib/python3.13/site-packages (from matplotlib) (24.2)\n",
      "Requirement already satisfied: pillow>=8 in /Users/shuvo/myenv/lib/python3.13/site-packages (from matplotlib) (11.1.0)\n",
      "Requirement already satisfied: pyparsing>=2.3.1 in /Users/shuvo/myenv/lib/python3.13/site-packages (from matplotlib) (3.2.1)\n",
      "Requirement already satisfied: python-dateutil>=2.7 in /Users/shuvo/myenv/lib/python3.13/site-packages (from matplotlib) (2.9.0.post0)\n",
      "Requirement already satisfied: six>=1.5 in /Users/shuvo/myenv/lib/python3.13/site-packages (from python-dateutil>=2.7->matplotlib) (1.17.0)\n",
      "Note: you may need to restart the kernel to use updated packages.\n"
     ]
    }
   ],
   "source": [
    "#%pip install matplotlib.pyplot\n",
    "%pip install matplotlib"
   ]
  },
  {
   "cell_type": "markdown",
   "id": "5bca94be-c073-4115-bcfa-13dfa37ff01b",
   "metadata": {},
   "source": [
    "# SUDOKU SOLVER"
   ]
  },
  {
   "cell_type": "code",
   "execution_count": 98,
   "id": "34629873-ea6b-4184-99c9-02ff5b138d41",
   "metadata": {},
   "outputs": [
    {
     "name": "stdout",
     "output_type": "stream",
     "text": [
      "Sudoku Solved:\n",
      " [[5 3 4 6 7 8 9 1 2]\n",
      " [6 7 2 1 9 5 3 4 8]\n",
      " [1 9 8 3 4 2 5 6 7]\n",
      " [8 5 9 7 6 1 4 2 3]\n",
      " [4 2 6 8 5 3 7 9 1]\n",
      " [7 1 3 9 2 4 8 5 6]\n",
      " [9 6 1 5 3 7 2 8 4]\n",
      " [2 8 7 4 1 9 6 3 5]\n",
      " [3 4 5 2 8 6 1 7 9]]\n"
     ]
    }
   ],
   "source": [
    "import numpy as np\n",
    "\n",
    "# Sudoku puzzle (0 represents empty cells)\n",
    "sudoku = np.array([\n",
    "    [5, 3, 0, 0, 7, 0, 0, 0, 0],\n",
    "    [6, 0, 0, 1, 9, 5, 0, 0, 0],\n",
    "    [0, 9, 8, 0, 0, 0, 0, 6, 0],\n",
    "    [8, 0, 0, 0, 6, 0, 0, 0, 3],\n",
    "    [4, 0, 0, 8, 0, 3, 0, 0, 1],\n",
    "    [7, 0, 0, 0, 2, 0, 0, 0, 6],\n",
    "    [0, 6, 0, 0, 0, 0, 2, 8, 0],\n",
    "    [0, 0, 0, 4, 1, 9, 0, 0, 5],\n",
    "    [0, 0, 0, 0, 8, 0, 0, 7, 9]\n",
    "])\n",
    "\n",
    "# Check if number can be placed\n",
    "def is_valid(sudoku, row, col, num):\n",
    "    if num in sudoku[row] or num in sudoku[:, col]:\n",
    "        return False\n",
    "    start_row, start_col = 3 * (row // 3), 3 * (col // 3)\n",
    "    if num in sudoku[start_row:start_row+3, start_col:start_col+3]:\n",
    "        return False\n",
    "    return True\n",
    "\n",
    "# Solve Sudoku using backtracking\n",
    "def solve_sudoku(sudoku):\n",
    "    for row in range(9):\n",
    "        for col in range(9):\n",
    "            if sudoku[row, col] == 0:\n",
    "                for num in range(1, 10):\n",
    "                    if is_valid(sudoku, row, col, num):\n",
    "                        sudoku[row, col] = num\n",
    "                        if solve_sudoku(sudoku):\n",
    "                            return True\n",
    "                        sudoku[row, col] = 0\n",
    "                return False\n",
    "    return True\n",
    "\n",
    "# Solve and print solution\n",
    "if solve_sudoku(sudoku):\n",
    "    print(\"Sudoku Solved:\\n\", sudoku)\n",
    "else:\n",
    "    print(\"No solution exists.\")"
   ]
  },
  {
   "cell_type": "markdown",
   "id": "7fa49e38-ab4a-481a-be00-0d3a86ac5d20",
   "metadata": {},
   "source": [
    "`arr = np.random.randint(0, 51, 15)`\n",
    "\n",
    "\n",
    "`matrix = np.random.randint(1, 100, (5, 5))`"
   ]
  },
  {
   "cell_type": "code",
   "execution_count": null,
   "id": "060ca3b7-8382-4141-bc20-dbac4aaa812c",
   "metadata": {},
   "outputs": [],
   "source": []
  }
 ],
 "metadata": {
  "kernelspec": {
   "display_name": "Python (myenv)",
   "language": "python",
   "name": "myenv"
  },
  "language_info": {
   "codemirror_mode": {
    "name": "ipython",
    "version": 3
   },
   "file_extension": ".py",
   "mimetype": "text/x-python",
   "name": "python",
   "nbconvert_exporter": "python",
   "pygments_lexer": "ipython3",
   "version": "3.13.1"
  }
 },
 "nbformat": 4,
 "nbformat_minor": 5
}
