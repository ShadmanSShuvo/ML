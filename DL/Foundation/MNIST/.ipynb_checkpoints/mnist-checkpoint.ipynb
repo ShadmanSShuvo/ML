{
 "cells": [
  {
   "cell_type": "code",
   "execution_count": null,
   "id": "8916ccbd-a6da-43c3-9582-c1d85db2a70c",
   "metadata": {},
   "outputs": [],
   "source": [
    "import numpy as np\n",
    "import matplotlib.pyplot as plt\n",
    "from keras.datasets import mnist\n",
    "from sklearn.preprocessing import OneHotEncoder\n",
    "\n",
    "# Load the MNIST dataset\n",
    "(X_train, y_train), (X_test, y_test) = mnist.load_data()\n",
    "\n",
    "# Reshape and normalize data\n",
    "X_train = X_train.reshape(X_train.shape[0], 784).astype('float32') / 255  # Flatten 28x28 to 784 and normalize\n",
    "X_test = X_test.reshape(X_test.shape[0], 784).astype('float32') / 255\n",
    "\n",
    "# One-hot encode labels (to handle classification as multi-class)\n",
    "encoder = OneHotEncoder()\n",
    "    #sparse=False)\n",
    "y_train_onehot = encoder.fit_transform(y_train.reshape(-1, 1))\n",
    "y_test_onehot = encoder.transform(y_test.reshape(-1, 1))"
   ]
  },
  {
   "cell_type": "code",
   "execution_count": null,
   "id": "96a61ec2-5b2a-419f-b465-b806612e46ee",
   "metadata": {},
   "outputs": [],
   "source": [
    "# Neural network architecture parameters\n",
    "input_size = 784   # 28x28 pixels\n",
    "hidden_size = 128  # Hidden layer size\n",
    "output_size = 10   # Output layer (10 classes for digits 0-9)\n",
    "\n",
    "# Initialize weights and biases\n",
    "np.random.seed(42)\n",
    "\n",
    "# Weights initialization (Xavier/Glorot initialization)\n",
    "W1 = np.random.randn(input_size, hidden_size) * np.sqrt(2. / input_size)  # Input to hidden layer\n",
    "b1 = np.zeros((1, hidden_size))  # Hidden layer bias\n",
    "W2 = np.random.randn(hidden_size, output_size) * np.sqrt(2. / hidden_size)  # Hidden to output layer\n",
    "b2 = np.zeros((1, output_size))  # Output layer bias"
   ]
  },
  {
   "cell_type": "code",
   "execution_count": null,
   "id": "ba5687cf-0782-4abf-95cc-b4a923d957ec",
   "metadata": {},
   "outputs": [],
   "source": [
    "# Activation functions\n",
    "def relu(x):\n",
    "    return np.maximum(0, x)\n",
    "\n",
    "def softmax(x):\n",
    "    exp_x = np.exp(x - np.max(x, axis=1, keepdims=True))  # Numerical stability trick\n",
    "    return exp_x / np.sum(exp_x, axis=1, keepdims=True)\n",
    "\n",
    "# Forward propagation\n",
    "def forward(X):\n",
    "    # Input to hidden layer\n",
    "    z1 = np.dot(X, W1) + b1\n",
    "    a1 = relu(z1)  # Activation of hidden layer\n",
    "\n",
    "    # Hidden to output layer\n",
    "    z2 = np.dot(a1, W2) + b2\n",
    "    a2 = softmax(z2)  # Output layer (probabilities)\n",
    "\n",
    "    return a1, a2"
   ]
  },
  {
   "cell_type": "code",
   "execution_count": null,
   "id": "0855fb47-5663-42c9-86f1-8874a163c59a",
   "metadata": {},
   "outputs": [],
   "source": [
    "# Cross-entropy loss\n",
    "def cross_entropy_loss(y_true, y_pred):\n",
    "    m = y_true.shape[0]\n",
    "    log_likelihood = -np.log(y_pred[range(m), np.argmax(y_true, axis=1)])\n",
    "    loss = np.sum(log_likelihood) / m\n",
    "    return loss"
   ]
  },
  {
   "cell_type": "code",
   "execution_count": null,
   "id": "449fb30c-632f-4b5e-8d84-3f828912927e",
   "metadata": {},
   "outputs": [],
   "source": [
    "# Backpropagation\n",
    "def backprop(X, y_true, a1, a2):\n",
    "    m = X.shape[0]\n",
    "    \n",
    "    # Output layer error (softmax + cross-entropy)\n",
    "    dz2 = a2 - y_true  # Gradient of cross-entropy loss with respect to output\n",
    "    dW2 = np.dot(a1.T, dz2) / m  # Gradient of weights between hidden and output layer\n",
    "    db2 = np.sum(dz2, axis=0, keepdims=True) / m  # Gradient of biases for output layer\n",
    "\n",
    "    # Hidden layer error\n",
    "    dz1 = np.dot(dz2, W2.T) * (a1 > 0)  # Derivative of ReLU\n",
    "    dW1 = np.dot(X.T, dz1) / m  # Gradient of weights between input and hidden layer\n",
    "    db1 = np.sum(dz1, axis=0, keepdims=True) / m  # Gradient of biases for hidden layer\n",
    "\n",
    "    return dW1, db1, dW2, db2"
   ]
  },
  {
   "cell_type": "code",
   "execution_count": null,
   "id": "dfe06233-9dbd-4606-b5c7-19fbbabd9a20",
   "metadata": {},
   "outputs": [],
   "source": [
    "# Hyperparameters\n",
    "learning_rate = 0.1\n",
    "epochs = 10\n",
    "\n",
    "# Training loop\n",
    "for epoch in range(epochs):\n",
    "    # Forward pass\n",
    "    a1, a2 = forward(X_train)\n",
    "    \n",
    "    # Calculate loss\n",
    "    loss = cross_entropy_loss(y_train_onehot, a2)\n",
    "    \n",
    "    # Backpropagation\n",
    "    dW1, db1, dW2, db2 = backprop(X_train, y_train_onehot, a1, a2)\n",
    "    \n",
    "    # Gradient descent update\n",
    "    W1 -= learning_rate * dW1\n",
    "    b1 -= learning_rate * db1\n",
    "    W2 -= learning_rate * dW2\n",
    "    b2 -= learning_rate * db2\n",
    "\n",
    "    # Print loss every 100 epochs\n",
    "    if epoch % 100 == 0:\n",
    "        print(f'Epoch {epoch}, Loss: {loss:.4f}')"
   ]
  },
  {
   "cell_type": "code",
   "execution_count": null,
   "id": "383605e6-a44d-4a12-ab73-b92e118ee8d4",
   "metadata": {},
   "outputs": [],
   "source": [
    "# Evaluate the model\n",
    "a1_test, a2_test = forward(X_test)\n",
    "predictions = np.argmax(a2_test, axis=1)\n",
    "accuracy = np.mean(predictions == y_test)\n",
    "print(f'Test Accuracy: {accuracy * 100:.2f}%')"
   ]
  },
  {
   "cell_type": "code",
   "execution_count": null,
   "id": "3bcc9761-7445-4845-b4a0-149a4599397d",
   "metadata": {},
   "outputs": [],
   "source": []
  },
  {
   "cell_type": "code",
   "execution_count": null,
   "id": "e7e4e0f2-c9a6-4685-9720-ace387a49353",
   "metadata": {},
   "outputs": [],
   "source": []
  },
  {
   "cell_type": "code",
   "execution_count": null,
   "id": "470e39e8-24d7-4e8a-ad4d-26880d3c37bb",
   "metadata": {},
   "outputs": [],
   "source": []
  },
  {
   "cell_type": "code",
   "execution_count": null,
   "id": "b6f087bb-342f-4f4c-8dce-c08362aa7e49",
   "metadata": {},
   "outputs": [],
   "source": []
  }
 ],
 "metadata": {
  "kernelspec": {
   "display_name": "Python 3 (ipykernel)",
   "language": "python",
   "name": "python3"
  },
  "language_info": {
   "codemirror_mode": {
    "name": "ipython",
    "version": 3
   },
   "file_extension": ".py",
   "mimetype": "text/x-python",
   "name": "python",
   "nbconvert_exporter": "python",
   "pygments_lexer": "ipython3",
   "version": "3.12.2"
  }
 },
 "nbformat": 4,
 "nbformat_minor": 5
}
