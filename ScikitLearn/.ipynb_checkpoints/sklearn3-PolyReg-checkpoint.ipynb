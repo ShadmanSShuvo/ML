{
 "cells": [
  {
   "cell_type": "code",
   "execution_count": 3,
   "id": "1626363d-fa65-4e18-82d5-d4080016c4f5",
   "metadata": {},
   "outputs": [],
   "source": [
    "import numpy as np\n",
    "import matplotlib.pyplot as plt\n",
    "from sklearn.preprocessing import PolynomialFeatures\n",
    "from sklearn.linear_model import LinearRegression\n",
    "from sklearn.pipeline import make_pipeline"
   ]
  },
  {
   "cell_type": "code",
   "execution_count": null,
   "id": "e2eaa061-210b-4b8a-a88a-ced366e012a7",
   "metadata": {},
   "outputs": [],
   "source": [
    "# Generate synthetic non-linear data\n",
    "np.random.seed(42)\n",
    "X = np.linspace(-3, 3, 100).reshape(-1, 1)  # Feature\n",
    "y = X**2 + np.random.randn(100, 1) * 2  # Quadratic relationship with noise\n",
    "\n",
    "# Scatter plot of data\n",
    "plt.scatter(X, y, label=\"Data\")\n",
    "plt.xlabel(\"Feature (X)\")\n",
    "plt.ylabel(\"Target (y)\")\n",
    "plt.title(\"Non-Linear Data\")\n",
    "plt.legend()\n",
    "plt.show()"
   ]
  }
 ],
 "metadata": {
  "kernelspec": {
   "display_name": "Python (myenv)",
   "language": "python",
   "name": "myenv"
  },
  "language_info": {
   "codemirror_mode": {
    "name": "ipython",
    "version": 3
   },
   "file_extension": ".py",
   "mimetype": "text/x-python",
   "name": "python",
   "nbconvert_exporter": "python",
   "pygments_lexer": "ipython3",
   "version": "3.13.1"
  }
 },
 "nbformat": 4,
 "nbformat_minor": 5
}
